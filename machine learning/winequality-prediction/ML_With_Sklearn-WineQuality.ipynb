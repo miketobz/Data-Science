{
 "cells": [
  {
   "cell_type": "code",
   "execution_count": 4,
   "id": "386b00a3",
   "metadata": {},
   "outputs": [],
   "source": [
    "# Importing required packages\n",
    "import pandas as pd\n",
    "import seaborn as sns\n",
    "import matplotlib.pyplot as plt\n",
    "from sklearn import ensemble\n",
    "from sklearn.ensemble import RandomForestClassifier\n",
    "from sklearn.svm import SVC\n",
    "from sklearn import svm\n",
    "from sklearn.neural_network import MLPClassifier\n",
    "#from sklearn.linear_model import SGDClassifier\n",
    "from sklearn.metrics import confusion_matrix, classification_report\n",
    "from sklearn import preprocessing\n",
    "from sklearn.preprocessing import StandardScaler\n",
    "from sklearn.model_selection import train_test_split\n",
    "%matplotlib inline\n",
    "\n",
    "# Load the dataset:\n",
    "wine_df = pd.read_csv(\"winequality-red.csv\", sep=\";\")\n",
    "\n",
    "# Preprocessing data\n",
    "bins = (2, 6.5, 8)\n",
    "group_names = [\"bad\", \"good\"]\n",
    "wine_df[\"quality\"] = pd.cut(wine_df[\"quality\"], bins = bins, labels = group_names)\n",
    "wine_df[\"quality\"].unique()\n",
    "wine_df[\"quality\"].value_counts()\n",
    "\n",
    "# Separate dataset as response variable and feature variable:\n",
    "input_ds = wine_df.drop(columns = \"quality\")\n",
    "output_ds = wine_df[\"quality\"]\n",
    "\n",
    "# Train and test splitting our data:\n",
    "input_train, input_test, output_train, output_test = train_test_split(input_ds, output_ds, test_size = 0.2, random_state = 42)\n",
    "\n",
    "# Applying a standard scalar to the data, prior to modeling.\n",
    "# Provides optimized results:\n",
    "sc = StandardScaler()\n",
    "input_train = sc.fit_transform(input_train)\n",
    "input_test = sc.transform(input_test)\n"
   ]
  },
  {
   "cell_type": "code",
   "execution_count": 19,
   "id": "31a4a5bd",
   "metadata": {},
   "outputs": [
    {
     "data": {
      "text/html": [
       "<div>\n",
       "<style scoped>\n",
       "    .dataframe tbody tr th:only-of-type {\n",
       "        vertical-align: middle;\n",
       "    }\n",
       "\n",
       "    .dataframe tbody tr th {\n",
       "        vertical-align: top;\n",
       "    }\n",
       "\n",
       "    .dataframe thead th {\n",
       "        text-align: right;\n",
       "    }\n",
       "</style>\n",
       "<table border=\"1\" class=\"dataframe\">\n",
       "  <thead>\n",
       "    <tr style=\"text-align: right;\">\n",
       "      <th></th>\n",
       "      <th>fixed acidity</th>\n",
       "      <th>volatile acidity</th>\n",
       "      <th>citric acid</th>\n",
       "      <th>residual sugar</th>\n",
       "      <th>chlorides</th>\n",
       "      <th>free sulfur dioxide</th>\n",
       "      <th>total sulfur dioxide</th>\n",
       "      <th>density</th>\n",
       "      <th>pH</th>\n",
       "      <th>sulphates</th>\n",
       "      <th>alcohol</th>\n",
       "      <th>quality</th>\n",
       "    </tr>\n",
       "  </thead>\n",
       "  <tbody>\n",
       "    <tr>\n",
       "      <th>0</th>\n",
       "      <td>7.4</td>\n",
       "      <td>0.70</td>\n",
       "      <td>0.00</td>\n",
       "      <td>1.9</td>\n",
       "      <td>0.076</td>\n",
       "      <td>11.0</td>\n",
       "      <td>34.0</td>\n",
       "      <td>0.9978</td>\n",
       "      <td>3.51</td>\n",
       "      <td>0.56</td>\n",
       "      <td>9.4</td>\n",
       "      <td>bad</td>\n",
       "    </tr>\n",
       "    <tr>\n",
       "      <th>1</th>\n",
       "      <td>7.8</td>\n",
       "      <td>0.88</td>\n",
       "      <td>0.00</td>\n",
       "      <td>2.6</td>\n",
       "      <td>0.098</td>\n",
       "      <td>25.0</td>\n",
       "      <td>67.0</td>\n",
       "      <td>0.9968</td>\n",
       "      <td>3.20</td>\n",
       "      <td>0.68</td>\n",
       "      <td>9.8</td>\n",
       "      <td>bad</td>\n",
       "    </tr>\n",
       "    <tr>\n",
       "      <th>2</th>\n",
       "      <td>7.8</td>\n",
       "      <td>0.76</td>\n",
       "      <td>0.04</td>\n",
       "      <td>2.3</td>\n",
       "      <td>0.092</td>\n",
       "      <td>15.0</td>\n",
       "      <td>54.0</td>\n",
       "      <td>0.9970</td>\n",
       "      <td>3.26</td>\n",
       "      <td>0.65</td>\n",
       "      <td>9.8</td>\n",
       "      <td>bad</td>\n",
       "    </tr>\n",
       "    <tr>\n",
       "      <th>3</th>\n",
       "      <td>11.2</td>\n",
       "      <td>0.28</td>\n",
       "      <td>0.56</td>\n",
       "      <td>1.9</td>\n",
       "      <td>0.075</td>\n",
       "      <td>17.0</td>\n",
       "      <td>60.0</td>\n",
       "      <td>0.9980</td>\n",
       "      <td>3.16</td>\n",
       "      <td>0.58</td>\n",
       "      <td>9.8</td>\n",
       "      <td>bad</td>\n",
       "    </tr>\n",
       "    <tr>\n",
       "      <th>4</th>\n",
       "      <td>7.4</td>\n",
       "      <td>0.70</td>\n",
       "      <td>0.00</td>\n",
       "      <td>1.9</td>\n",
       "      <td>0.076</td>\n",
       "      <td>11.0</td>\n",
       "      <td>34.0</td>\n",
       "      <td>0.9978</td>\n",
       "      <td>3.51</td>\n",
       "      <td>0.56</td>\n",
       "      <td>9.4</td>\n",
       "      <td>bad</td>\n",
       "    </tr>\n",
       "    <tr>\n",
       "      <th>5</th>\n",
       "      <td>7.4</td>\n",
       "      <td>0.66</td>\n",
       "      <td>0.00</td>\n",
       "      <td>1.8</td>\n",
       "      <td>0.075</td>\n",
       "      <td>13.0</td>\n",
       "      <td>40.0</td>\n",
       "      <td>0.9978</td>\n",
       "      <td>3.51</td>\n",
       "      <td>0.56</td>\n",
       "      <td>9.4</td>\n",
       "      <td>bad</td>\n",
       "    </tr>\n",
       "    <tr>\n",
       "      <th>6</th>\n",
       "      <td>7.9</td>\n",
       "      <td>0.60</td>\n",
       "      <td>0.06</td>\n",
       "      <td>1.6</td>\n",
       "      <td>0.069</td>\n",
       "      <td>15.0</td>\n",
       "      <td>59.0</td>\n",
       "      <td>0.9964</td>\n",
       "      <td>3.30</td>\n",
       "      <td>0.46</td>\n",
       "      <td>9.4</td>\n",
       "      <td>bad</td>\n",
       "    </tr>\n",
       "    <tr>\n",
       "      <th>7</th>\n",
       "      <td>7.3</td>\n",
       "      <td>0.65</td>\n",
       "      <td>0.00</td>\n",
       "      <td>1.2</td>\n",
       "      <td>0.065</td>\n",
       "      <td>15.0</td>\n",
       "      <td>21.0</td>\n",
       "      <td>0.9946</td>\n",
       "      <td>3.39</td>\n",
       "      <td>0.47</td>\n",
       "      <td>10.0</td>\n",
       "      <td>good</td>\n",
       "    </tr>\n",
       "    <tr>\n",
       "      <th>8</th>\n",
       "      <td>7.8</td>\n",
       "      <td>0.58</td>\n",
       "      <td>0.02</td>\n",
       "      <td>2.0</td>\n",
       "      <td>0.073</td>\n",
       "      <td>9.0</td>\n",
       "      <td>18.0</td>\n",
       "      <td>0.9968</td>\n",
       "      <td>3.36</td>\n",
       "      <td>0.57</td>\n",
       "      <td>9.5</td>\n",
       "      <td>good</td>\n",
       "    </tr>\n",
       "    <tr>\n",
       "      <th>9</th>\n",
       "      <td>7.5</td>\n",
       "      <td>0.50</td>\n",
       "      <td>0.36</td>\n",
       "      <td>6.1</td>\n",
       "      <td>0.071</td>\n",
       "      <td>17.0</td>\n",
       "      <td>102.0</td>\n",
       "      <td>0.9978</td>\n",
       "      <td>3.35</td>\n",
       "      <td>0.80</td>\n",
       "      <td>10.5</td>\n",
       "      <td>bad</td>\n",
       "    </tr>\n",
       "  </tbody>\n",
       "</table>\n",
       "</div>"
      ],
      "text/plain": [
       "   fixed acidity  volatile acidity  citric acid  residual sugar  chlorides  \\\n",
       "0            7.4              0.70         0.00             1.9      0.076   \n",
       "1            7.8              0.88         0.00             2.6      0.098   \n",
       "2            7.8              0.76         0.04             2.3      0.092   \n",
       "3           11.2              0.28         0.56             1.9      0.075   \n",
       "4            7.4              0.70         0.00             1.9      0.076   \n",
       "5            7.4              0.66         0.00             1.8      0.075   \n",
       "6            7.9              0.60         0.06             1.6      0.069   \n",
       "7            7.3              0.65         0.00             1.2      0.065   \n",
       "8            7.8              0.58         0.02             2.0      0.073   \n",
       "9            7.5              0.50         0.36             6.1      0.071   \n",
       "\n",
       "   free sulfur dioxide  total sulfur dioxide  density    pH  sulphates  \\\n",
       "0                 11.0                  34.0   0.9978  3.51       0.56   \n",
       "1                 25.0                  67.0   0.9968  3.20       0.68   \n",
       "2                 15.0                  54.0   0.9970  3.26       0.65   \n",
       "3                 17.0                  60.0   0.9980  3.16       0.58   \n",
       "4                 11.0                  34.0   0.9978  3.51       0.56   \n",
       "5                 13.0                  40.0   0.9978  3.51       0.56   \n",
       "6                 15.0                  59.0   0.9964  3.30       0.46   \n",
       "7                 15.0                  21.0   0.9946  3.39       0.47   \n",
       "8                  9.0                  18.0   0.9968  3.36       0.57   \n",
       "9                 17.0                 102.0   0.9978  3.35       0.80   \n",
       "\n",
       "   alcohol quality  \n",
       "0      9.4     bad  \n",
       "1      9.8     bad  \n",
       "2      9.8     bad  \n",
       "3      9.8     bad  \n",
       "4      9.4     bad  \n",
       "5      9.4     bad  \n",
       "6      9.4     bad  \n",
       "7     10.0    good  \n",
       "8      9.5    good  \n",
       "9     10.5     bad  "
      ]
     },
     "execution_count": 19,
     "metadata": {},
     "output_type": "execute_result"
    }
   ],
   "source": [
    "# Explore the dataset:\n",
    "wine_df.head(10)"
   ]
  },
  {
   "cell_type": "code",
   "execution_count": 14,
   "id": "8b7dde44",
   "metadata": {},
   "outputs": [
    {
     "data": {
      "text/html": [
       "<div>\n",
       "<style scoped>\n",
       "    .dataframe tbody tr th:only-of-type {\n",
       "        vertical-align: middle;\n",
       "    }\n",
       "\n",
       "    .dataframe tbody tr th {\n",
       "        vertical-align: top;\n",
       "    }\n",
       "\n",
       "    .dataframe thead th {\n",
       "        text-align: right;\n",
       "    }\n",
       "</style>\n",
       "<table border=\"1\" class=\"dataframe\">\n",
       "  <thead>\n",
       "    <tr style=\"text-align: right;\">\n",
       "      <th></th>\n",
       "      <th>fixed acidity</th>\n",
       "      <th>volatile acidity</th>\n",
       "      <th>citric acid</th>\n",
       "      <th>residual sugar</th>\n",
       "      <th>chlorides</th>\n",
       "      <th>free sulfur dioxide</th>\n",
       "      <th>total sulfur dioxide</th>\n",
       "      <th>density</th>\n",
       "      <th>pH</th>\n",
       "      <th>sulphates</th>\n",
       "      <th>alcohol</th>\n",
       "      <th>quality</th>\n",
       "    </tr>\n",
       "  </thead>\n",
       "  <tbody>\n",
       "    <tr>\n",
       "      <th>1589</th>\n",
       "      <td>6.6</td>\n",
       "      <td>0.725</td>\n",
       "      <td>0.20</td>\n",
       "      <td>7.8</td>\n",
       "      <td>0.073</td>\n",
       "      <td>29.0</td>\n",
       "      <td>79.0</td>\n",
       "      <td>0.99770</td>\n",
       "      <td>3.29</td>\n",
       "      <td>0.54</td>\n",
       "      <td>9.2</td>\n",
       "      <td>bad</td>\n",
       "    </tr>\n",
       "    <tr>\n",
       "      <th>1590</th>\n",
       "      <td>6.3</td>\n",
       "      <td>0.550</td>\n",
       "      <td>0.15</td>\n",
       "      <td>1.8</td>\n",
       "      <td>0.077</td>\n",
       "      <td>26.0</td>\n",
       "      <td>35.0</td>\n",
       "      <td>0.99314</td>\n",
       "      <td>3.32</td>\n",
       "      <td>0.82</td>\n",
       "      <td>11.6</td>\n",
       "      <td>bad</td>\n",
       "    </tr>\n",
       "    <tr>\n",
       "      <th>1591</th>\n",
       "      <td>5.4</td>\n",
       "      <td>0.740</td>\n",
       "      <td>0.09</td>\n",
       "      <td>1.7</td>\n",
       "      <td>0.089</td>\n",
       "      <td>16.0</td>\n",
       "      <td>26.0</td>\n",
       "      <td>0.99402</td>\n",
       "      <td>3.67</td>\n",
       "      <td>0.56</td>\n",
       "      <td>11.6</td>\n",
       "      <td>bad</td>\n",
       "    </tr>\n",
       "    <tr>\n",
       "      <th>1592</th>\n",
       "      <td>6.3</td>\n",
       "      <td>0.510</td>\n",
       "      <td>0.13</td>\n",
       "      <td>2.3</td>\n",
       "      <td>0.076</td>\n",
       "      <td>29.0</td>\n",
       "      <td>40.0</td>\n",
       "      <td>0.99574</td>\n",
       "      <td>3.42</td>\n",
       "      <td>0.75</td>\n",
       "      <td>11.0</td>\n",
       "      <td>bad</td>\n",
       "    </tr>\n",
       "    <tr>\n",
       "      <th>1593</th>\n",
       "      <td>6.8</td>\n",
       "      <td>0.620</td>\n",
       "      <td>0.08</td>\n",
       "      <td>1.9</td>\n",
       "      <td>0.068</td>\n",
       "      <td>28.0</td>\n",
       "      <td>38.0</td>\n",
       "      <td>0.99651</td>\n",
       "      <td>3.42</td>\n",
       "      <td>0.82</td>\n",
       "      <td>9.5</td>\n",
       "      <td>bad</td>\n",
       "    </tr>\n",
       "    <tr>\n",
       "      <th>1594</th>\n",
       "      <td>6.2</td>\n",
       "      <td>0.600</td>\n",
       "      <td>0.08</td>\n",
       "      <td>2.0</td>\n",
       "      <td>0.090</td>\n",
       "      <td>32.0</td>\n",
       "      <td>44.0</td>\n",
       "      <td>0.99490</td>\n",
       "      <td>3.45</td>\n",
       "      <td>0.58</td>\n",
       "      <td>10.5</td>\n",
       "      <td>bad</td>\n",
       "    </tr>\n",
       "    <tr>\n",
       "      <th>1595</th>\n",
       "      <td>5.9</td>\n",
       "      <td>0.550</td>\n",
       "      <td>0.10</td>\n",
       "      <td>2.2</td>\n",
       "      <td>0.062</td>\n",
       "      <td>39.0</td>\n",
       "      <td>51.0</td>\n",
       "      <td>0.99512</td>\n",
       "      <td>3.52</td>\n",
       "      <td>0.76</td>\n",
       "      <td>11.2</td>\n",
       "      <td>bad</td>\n",
       "    </tr>\n",
       "    <tr>\n",
       "      <th>1596</th>\n",
       "      <td>6.3</td>\n",
       "      <td>0.510</td>\n",
       "      <td>0.13</td>\n",
       "      <td>2.3</td>\n",
       "      <td>0.076</td>\n",
       "      <td>29.0</td>\n",
       "      <td>40.0</td>\n",
       "      <td>0.99574</td>\n",
       "      <td>3.42</td>\n",
       "      <td>0.75</td>\n",
       "      <td>11.0</td>\n",
       "      <td>bad</td>\n",
       "    </tr>\n",
       "    <tr>\n",
       "      <th>1597</th>\n",
       "      <td>5.9</td>\n",
       "      <td>0.645</td>\n",
       "      <td>0.12</td>\n",
       "      <td>2.0</td>\n",
       "      <td>0.075</td>\n",
       "      <td>32.0</td>\n",
       "      <td>44.0</td>\n",
       "      <td>0.99547</td>\n",
       "      <td>3.57</td>\n",
       "      <td>0.71</td>\n",
       "      <td>10.2</td>\n",
       "      <td>bad</td>\n",
       "    </tr>\n",
       "    <tr>\n",
       "      <th>1598</th>\n",
       "      <td>6.0</td>\n",
       "      <td>0.310</td>\n",
       "      <td>0.47</td>\n",
       "      <td>3.6</td>\n",
       "      <td>0.067</td>\n",
       "      <td>18.0</td>\n",
       "      <td>42.0</td>\n",
       "      <td>0.99549</td>\n",
       "      <td>3.39</td>\n",
       "      <td>0.66</td>\n",
       "      <td>11.0</td>\n",
       "      <td>bad</td>\n",
       "    </tr>\n",
       "  </tbody>\n",
       "</table>\n",
       "</div>"
      ],
      "text/plain": [
       "      fixed acidity  volatile acidity  citric acid  residual sugar  chlorides  \\\n",
       "1589            6.6             0.725         0.20             7.8      0.073   \n",
       "1590            6.3             0.550         0.15             1.8      0.077   \n",
       "1591            5.4             0.740         0.09             1.7      0.089   \n",
       "1592            6.3             0.510         0.13             2.3      0.076   \n",
       "1593            6.8             0.620         0.08             1.9      0.068   \n",
       "1594            6.2             0.600         0.08             2.0      0.090   \n",
       "1595            5.9             0.550         0.10             2.2      0.062   \n",
       "1596            6.3             0.510         0.13             2.3      0.076   \n",
       "1597            5.9             0.645         0.12             2.0      0.075   \n",
       "1598            6.0             0.310         0.47             3.6      0.067   \n",
       "\n",
       "      free sulfur dioxide  total sulfur dioxide  density    pH  sulphates  \\\n",
       "1589                 29.0                  79.0  0.99770  3.29       0.54   \n",
       "1590                 26.0                  35.0  0.99314  3.32       0.82   \n",
       "1591                 16.0                  26.0  0.99402  3.67       0.56   \n",
       "1592                 29.0                  40.0  0.99574  3.42       0.75   \n",
       "1593                 28.0                  38.0  0.99651  3.42       0.82   \n",
       "1594                 32.0                  44.0  0.99490  3.45       0.58   \n",
       "1595                 39.0                  51.0  0.99512  3.52       0.76   \n",
       "1596                 29.0                  40.0  0.99574  3.42       0.75   \n",
       "1597                 32.0                  44.0  0.99547  3.57       0.71   \n",
       "1598                 18.0                  42.0  0.99549  3.39       0.66   \n",
       "\n",
       "      alcohol quality  \n",
       "1589      9.2     bad  \n",
       "1590     11.6     bad  \n",
       "1591     11.6     bad  \n",
       "1592     11.0     bad  \n",
       "1593      9.5     bad  \n",
       "1594     10.5     bad  \n",
       "1595     11.2     bad  \n",
       "1596     11.0     bad  \n",
       "1597     10.2     bad  \n",
       "1598     11.0     bad  "
      ]
     },
     "execution_count": 14,
     "metadata": {},
     "output_type": "execute_result"
    }
   ],
   "source": [
    "# Explore the dataset:\n",
    "wine_df.tail(10)"
   ]
  },
  {
   "cell_type": "code",
   "execution_count": 2,
   "id": "241d08b6",
   "metadata": {
    "scrolled": true
   },
   "outputs": [
    {
     "data": {
      "text/plain": [
       "<AxesSubplot:xlabel='quality', ylabel='count'>"
      ]
     },
     "execution_count": 2,
     "metadata": {},
     "output_type": "execute_result"
    },
    {
     "data": {
      "image/png": "[encoded data removed]",
      "text/plain": [
       "<Figure size 432x288 with 1 Axes>"
      ]
     },
     "metadata": {
      "needs_background": "light"
     },
     "output_type": "display_data"
    }
   ],
   "source": [
    "# Visualize the wine quality distribution among the 1599 samples:\n",
    "sns.countplot(x = wine_df[\"quality\"])"
   ]
  },
  {
   "cell_type": "code",
   "execution_count": 13,
   "id": "4abbab0d",
   "metadata": {},
   "outputs": [
    {
     "data": {
      "text/plain": [
       "bad     1382\n",
       "good     217\n",
       "Name: quality, dtype: int64"
      ]
     },
     "execution_count": 13,
     "metadata": {},
     "output_type": "execute_result"
    }
   ],
   "source": [
    "# Wine quality distribution:\n",
    "wine_df[\"quality\"].value_counts()"
   ]
  },
  {
   "cell_type": "code",
   "execution_count": 13,
   "id": "52cddc3f",
   "metadata": {},
   "outputs": [
    {
     "name": "stdout",
     "output_type": "stream",
     "text": [
      "[[ 0.21833164  0.88971201  0.19209222  0.30972563 -0.04964208  0.69100692\n",
      "   1.04293362  1.84669643  1.09349989  0.45822284  1.12317723]\n",
      " [-1.29016623 -1.78878251  0.65275338 -0.80507963 -0.45521361  2.38847304\n",
      "   3.59387025 -3.00449133 -0.40043872 -0.40119696  1.40827174]\n",
      " [ 1.49475291 -0.78434707  1.01104539 -0.52637831  0.59927236 -0.95796016\n",
      "  -0.99174203  0.76865471 -0.07566946  0.51551749 -0.58738978]\n",
      " [ 0.27635078  0.86181102 -0.06383064 -0.66572897 -0.00908493  0.01202048\n",
      "  -0.71842739  0.08948842  0.05423824 -1.08873281 -0.96751578]\n",
      " [ 0.04427419  2.81487994 -0.62686095  2.39998549 -0.31326357 -0.47296984\n",
      "   0.2229897   1.1998714   0.37900751 -0.9741435  -0.49235828]\n",
      " [-0.07176411 -0.78434707  1.11341454 -0.17800167  0.21397941  3.01896045\n",
      "   2.62208486  0.60694845  0.44396136  1.89058918 -0.58738978]\n",
      " [-1.17412793  0.10848444 -0.62686095 -0.52637831 -0.23214927  0.98200112\n",
      "  -0.35400787 -1.95879086  0.05423824  0.91658007  1.12317723]\n",
      " [-0.1878024  -0.17052541  0.60156881  0.03102432 -0.13075639 -0.37597178\n",
      "  -0.01995665  0.93036097  0.76873063 -0.229313    0.26789373]\n",
      " [-0.07176411  0.61070216 -0.01264607 -0.38702766  0.13286511 -1.05495822\n",
      "   0.92146044  0.37516948 -1.17988496 -0.229313   -1.25261029]\n",
      " [ 1.8428678  -1.95618842  1.21578369  1.00647892  0.31537229 -1.15195628\n",
      "  -0.71842739  1.52328391 -0.20557717  1.77599987 -0.30229528]\n",
      " [-1.05808963  0.77810807 -1.39462955  1.2155049  -0.6377208  -0.47296984\n",
      "  -0.80953227 -1.02089456  0.89863833 -0.57308093  1.31324023]]\n"
     ]
    }
   ],
   "source": [
    "# Prints first 11 rows of my input train dataset:\n",
    "print(input_train[:11, :])"
   ]
  },
  {
   "cell_type": "markdown",
   "id": "b4414416",
   "metadata": {},
   "source": [
    "# Random Forest Classifier"
   ]
  },
  {
   "cell_type": "code",
   "execution_count": 6,
   "id": "a4eb172b",
   "metadata": {},
   "outputs": [],
   "source": [
    "# Create the first model.\n",
    "# Has 200 decision trees.\n",
    "# Model is trained using standardized datasets:\n",
    "rfc = RandomForestClassifier(n_estimators = 200)\n",
    "rfc.fit(input_train, output_train)\n",
    "predictions_rfc = rfc.predict(input_test)"
   ]
  },
  {
   "cell_type": "code",
   "execution_count": 8,
   "id": "4f098931",
   "metadata": {},
   "outputs": [
    {
     "name": "stdout",
     "output_type": "stream",
     "text": [
      "['bad' 'bad' 'bad' 'bad' 'bad' 'bad' 'bad' 'bad' 'bad' 'bad' 'good' 'bad'\n",
      " 'bad' 'bad' 'bad' 'bad' 'bad' 'bad' 'good' 'bad']\n"
     ]
    }
   ],
   "source": [
    "# Print the first 20 elements of the predictions 1D array:\n",
    "print(predictions_rfc[0:20])"
   ]
  },
  {
   "cell_type": "code",
   "execution_count": 9,
   "id": "35474b20",
   "metadata": {},
   "outputs": [
    {
     "name": "stdout",
     "output_type": "stream",
     "text": [
      "[[-3.61859850e-01  1.64286407e-01 -9.85152962e-01 -3.86510130e-02\n",
      "   5.18158057e-01 -1.81975648e-01 -1.99566462e-02  1.75731759e-01\n",
      "  -4.65392578e-01 -1.34389336e-04 -7.77452782e-01]\n",
      " [-3.03840702e-01 -1.70525408e-01 -5.24491803e-01 -6.65728970e-01\n",
      "  -1.30756387e-01  4.97010797e-01  1.68066777e+00 -4.17191190e-01\n",
      "   5.08915214e-01 -1.03143815e+00 -8.72484283e-01]\n",
      " [ 1.37871461e+00  7.78108067e-01 -2.68568937e-01  1.00699644e-01\n",
      "   3.76208022e-01  1.09018543e-01 -3.84376165e-01  1.95450060e+00\n",
      "  -2.05577167e-01  1.83329452e+00 -4.92358280e-01]\n",
      " [ 1.02293339e-01 -3.93733284e-01  1.92092221e-01 -2.12839335e-01\n",
      "  -2.11870693e-01  1.56398950e+00  3.44462872e-01  6.60850535e-01\n",
      "   1.19192097e-01 -6.87670232e-01 -5.87389780e-01]\n",
      " [-9.42051337e-01 -3.93733284e-01 -1.66199791e-01 -5.96053642e-01\n",
      "  -2.32149269e-01  2.06016607e-01 -3.84376165e-01 -1.06401623e+00\n",
      "   5.08915214e-01 -3.43902311e-01  1.72862226e-01]\n",
      " [-6.51955593e-01 -6.72743130e-01  1.40907648e-01 -3.17352327e-01\n",
      "  -1.10477811e-01  1.85498369e+00  7.69618977e-01  1.21829672e-01\n",
      "   8.33684478e-01 -8.02259539e-01 -9.67515783e-01]\n",
      " [-3.61859850e-01  5.26824689e-02 -6.38306444e-02 -4.56702985e-01\n",
      "   1.11936473e-02  6.91006925e-01  3.04724097e+00 -2.23143680e-01\n",
      "  -3.35484872e-01 -4.01196964e-01 -6.82421281e-01]\n",
      " [-7.67993891e-01  1.39192973e+00 -9.85152962e-01 -3.87027656e-01\n",
      "   9.23079528e-02 -5.69967902e-01 -8.39900563e-01 -6.32799535e-01\n",
      "   5.73869067e-01 -1.08873281e+00 -3.97326779e-01]\n",
      " [-7.17641072e-02 -7.84347068e-01  5.50384234e-01 -7.35404299e-01\n",
      "  -6.17442220e-01 -5.69967902e-01 -5.36217631e-01 -3.09387018e-01\n",
      "  -3.35484872e-01  4.58222839e-01 -5.87389780e-01]\n",
      " [-1.46422367e+00  4.43296253e-01 -8.31599242e-01 -5.26378313e-01\n",
      "  -4.55213609e-01  2.06016607e-01 -5.66585924e-01 -1.04784560e+00\n",
      "   1.54817686e+00 -1.34389336e-04  4.57956728e-01]\n",
      " [ 1.26267631e+00 -1.14723438e-01  1.88118314e+00 -1.08326342e-01\n",
      "   3.76208022e-01 -9.57960157e-01 -9.61373736e-01  2.83535931e-01\n",
      "  -1.43970037e+00 -1.34389336e-04  1.31324023e+00]\n",
      " [-9.42051337e-01  1.28032579e+00 -1.29226040e+00 -5.26378313e-01\n",
      "  -2.11870693e-01 -9.57960157e-01 -1.05247862e+00 -4.17191190e-01\n",
      "   1.54817686e+00 -1.72018350e-01 -4.44842529e-01]\n",
      " [-9.42051337e-01 -2.82129346e-01 -9.85152962e-01 -3.17352327e-01\n",
      "  -4.95770762e-01  2.06016607e-01 -3.84376165e-01 -6.75921204e-01\n",
      "   1.19192097e-01 -1.14723696e-01 -6.82421281e-01]\n",
      " [-7.67993891e-01  1.64286407e-01 -7.29230096e-01 -6.65728970e-01\n",
      "  -2.32149269e-01  8.85003052e-01 -1.41429819e-01 -2.60875140e-01\n",
      "   1.84145950e-01 -4.01196964e-01 -1.15757878e+00]\n",
      " [-3.03840702e-01 -1.06335691e+00  4.99199661e-01 -3.87027656e-01\n",
      "  -1.30756387e-01  7.88004988e-01  3.44462872e-01 -2.01582845e-01\n",
      "   1.84145950e-01 -4.01196964e-01 -9.67515783e-01]\n",
      " [ 3.34369933e-01 -1.39816873e+00  9.08676246e-01 -5.96053642e-01\n",
      "  -4.34935033e-01 -8.60962093e-01 -1.05247862e+00 -1.74318251e+00\n",
      "  -4.00438725e-01 -6.30375579e-01  1.78839774e+00]\n",
      " [-9.42051337e-01  8.06009052e-01 -1.03633753e+00 -1.08326342e-01\n",
      "   1.11936473e-02  1.09018543e-01  1.07330191e+00 -5.24995363e-01\n",
      "   2.49099803e-01 -6.87670232e-01 -3.02295278e-01]\n",
      " [ 1.03059972e+00 -5.61139191e-01  6.52753380e-01  3.10243156e-02\n",
      "   7.20293764e-02 -2.78973711e-01  1.62253113e-01  8.44117628e-01\n",
      "  -5.95300283e-01 -1.14723696e-01 -3.97326779e-01]\n",
      " [ 6.24465676e-01 -1.28656479e+00  1.47170655e+00  1.70374973e-01\n",
      "  -1.71313540e-01 -9.57960157e-01 -9.00637149e-01 -2.01582845e-01\n",
      "  -1.04997725e+00  1.48952660e+00  1.21820873e+00]\n",
      " [ 4.42741900e-02  1.19662284e+00 -8.31599242e-01 -4.56702985e-01\n",
      "   3.14722237e-02  1.20204793e-02  4.96304338e-01 -1.47680759e-01\n",
      "  -7.90161842e-01  9.16580068e-01 -7.77452782e-01]]\n"
     ]
    }
   ],
   "source": [
    " # Print the first 20 elements of the 'input_test' 2D array:\n",
    "print(input_test[:20, :])"
   ]
  },
  {
   "cell_type": "code",
   "execution_count": 11,
   "id": "1f1f0ff2",
   "metadata": {
    "scrolled": false
   },
   "outputs": [
    {
     "name": "stdout",
     "output_type": "stream",
     "text": [
      "              precision    recall  f1-score   support\n",
      "\n",
      "         bad       0.92      0.97      0.95       273\n",
      "        good       0.76      0.53      0.62        47\n",
      "\n",
      "    accuracy                           0.91       320\n",
      "   macro avg       0.84      0.75      0.79       320\n",
      "weighted avg       0.90      0.91      0.90       320\n",
      "\n"
     ]
    }
   ],
   "source": [
    "# Test the accuracy of the model.\n",
    "# Use 'classification_report()' function:\n",
    "print(classification_report(output_test, predictions_rfc))"
   ]
  },
  {
   "cell_type": "code",
   "execution_count": 12,
   "id": "0dfb7d91",
   "metadata": {},
   "outputs": [
    {
     "name": "stdout",
     "output_type": "stream",
     "text": [
      "[[265   8]\n",
      " [ 22  25]]\n"
     ]
    }
   ],
   "source": [
    "# Test the accuracy of the model.\n",
    "# Use 'confusion_matrix()' function:\n",
    "print(confusion_matrix(output_test, predictions_rfc))"
   ]
  },
  {
   "cell_type": "code",
   "execution_count": 29,
   "id": "82fc7bd3",
   "metadata": {},
   "outputs": [
    {
     "name": "stdout",
     "output_type": "stream",
     "text": [
      "The score is:  0.90625\n"
     ]
    }
   ],
   "source": [
    "# Calculate the accuracy score:\n",
    "from sklearn.metrics import accuracy_score\n",
    "\n",
    "score = accuracy_score(output_test, predictions_rfc)\n",
    "print(\"The score is: \", score)"
   ]
  },
  {
   "cell_type": "code",
   "execution_count": 34,
   "id": "483bc5e2",
   "metadata": {},
   "outputs": [
    {
     "name": "stdout",
     "output_type": "stream",
     "text": [
      "The wine quality is:  ['bad']\n"
     ]
    },
    {
     "name": "stderr",
     "output_type": "stream",
     "text": [
      "C:\\Users\\Miketobbz\\anaconda3\\lib\\site-packages\\sklearn\\base.py:450: UserWarning: X does not have valid feature names, but StandardScaler was fitted with feature names\n",
      "  warnings.warn(\n"
     ]
    }
   ],
   "source": [
    "# Predict the quality of wine with these attributes:\n",
    "new_input_test = [[10.5, 0.95, 0.55, 1.8, 0.072, 11.0, 15.0, 0.9963, 3.23, 0.65, 9.2]]\n",
    "new_input_test = sc.transform(new_input_test)\n",
    "predictions_rfc = rfc.predict(new_input_test)\n",
    "print(\"The wine quality is: \", predictions_rfc)"
   ]
  },
  {
   "cell_type": "markdown",
   "id": "2017d808",
   "metadata": {},
   "source": [
    "# Support Vector Classifier(SVC)"
   ]
  },
  {
   "cell_type": "code",
   "execution_count": 15,
   "id": "c0229935",
   "metadata": {},
   "outputs": [],
   "source": [
    "# Create the second model.\n",
    "# model is trained using standardized datasets:\n",
    "clf = svm.SVC()\n",
    "clf.fit(input_train, output_train)\n",
    "predictions_clf = clf.predict(input_test)"
   ]
  },
  {
   "cell_type": "code",
   "execution_count": 16,
   "id": "f902d79c",
   "metadata": {},
   "outputs": [
    {
     "name": "stdout",
     "output_type": "stream",
     "text": [
      "['bad' 'bad' 'bad' 'bad' 'bad' 'bad' 'bad' 'bad' 'bad' 'bad' 'bad' 'bad'\n",
      " 'bad' 'bad' 'bad' 'bad' 'bad' 'bad' 'good' 'bad']\n"
     ]
    }
   ],
   "source": [
    "# Print the first 20 elements of the predictions 1D array:\n",
    "print(predictions_clf[:20])"
   ]
  },
  {
   "cell_type": "code",
   "execution_count": 17,
   "id": "a89511e1",
   "metadata": {},
   "outputs": [
    {
     "name": "stdout",
     "output_type": "stream",
     "text": [
      "              precision    recall  f1-score   support\n",
      "\n",
      "         bad       0.88      0.98      0.93       273\n",
      "        good       0.71      0.26      0.37        47\n",
      "\n",
      "    accuracy                           0.88       320\n",
      "   macro avg       0.80      0.62      0.65       320\n",
      "weighted avg       0.86      0.88      0.85       320\n",
      "\n"
     ]
    }
   ],
   "source": [
    "# Test the accuracy of the model.\n",
    "# Use 'classification_report()' function:\n",
    "print(classification_report(output_test, predictions_clf))"
   ]
  },
  {
   "cell_type": "code",
   "execution_count": 18,
   "id": "612a9791",
   "metadata": {},
   "outputs": [
    {
     "name": "stdout",
     "output_type": "stream",
     "text": [
      "[[268   5]\n",
      " [ 35  12]]\n"
     ]
    }
   ],
   "source": [
    "# Test the accuracy of the model.\n",
    "# Use 'confusion_matrix()' function:\n",
    "print(confusion_matrix(output_test, predictions_clf))"
   ]
  },
  {
   "cell_type": "code",
   "execution_count": 28,
   "id": "d5381015",
   "metadata": {},
   "outputs": [
    {
     "name": "stdout",
     "output_type": "stream",
     "text": [
      "The score is:  0.875\n"
     ]
    }
   ],
   "source": [
    "# Calculate the accuracy score:\n",
    "from sklearn.metrics import accuracy_score\n",
    "\n",
    "score = accuracy_score(output_test, predictions_clf)\n",
    "print(\"The score is: \", score)"
   ]
  },
  {
   "cell_type": "code",
   "execution_count": 36,
   "id": "b8d7a406",
   "metadata": {},
   "outputs": [
    {
     "name": "stdout",
     "output_type": "stream",
     "text": [
      "The wine quality is:  ['bad']\n"
     ]
    },
    {
     "name": "stderr",
     "output_type": "stream",
     "text": [
      "C:\\Users\\Miketobbz\\anaconda3\\lib\\site-packages\\sklearn\\base.py:450: UserWarning: X does not have valid feature names, but StandardScaler was fitted with feature names\n",
      "  warnings.warn(\n"
     ]
    }
   ],
   "source": [
    "# Predict the quality of wine with these attributes:\n",
    "new_input_test = [[10.5, 0.95, 0.55, 1.8, 0.072, 11.0, 15.0, 0.9963, 3.23, 0.65, 9.2]]\n",
    "new_input_test = sc.transform(new_input_test)\n",
    "predictions_clf = clf.predict(new_input_test)\n",
    "print(\"The wine quality is: \", predictions_clf)"
   ]
  },
  {
   "cell_type": "markdown",
   "id": "a9b68a7f",
   "metadata": {},
   "source": [
    "# Neural Network/Multi-layer Perceptron Classifier(MLP)"
   ]
  },
  {
   "cell_type": "code",
   "execution_count": 22,
   "id": "d5baaa91",
   "metadata": {},
   "outputs": [],
   "source": [
    "# Create the third model-a neural network.\n",
    "# The neural network is trained using standardized datasets.\n",
    "# It has 3 hidden layers with 11 nodes, each:\n",
    "mlpc = MLPClassifier(hidden_layer_sizes = (11, 11, 11), max_iter = 900)\n",
    "mlpc.fit(input_train, output_train)\n",
    "predictions_mlpc = mlpc.predict(input_test)"
   ]
  },
  {
   "cell_type": "code",
   "execution_count": 24,
   "id": "6eaed200",
   "metadata": {},
   "outputs": [
    {
     "name": "stdout",
     "output_type": "stream",
     "text": [
      "['bad' 'bad' 'bad' 'bad' 'bad' 'bad' 'bad' 'bad' 'bad' 'bad' 'good' 'bad'\n",
      " 'bad' 'bad' 'bad' 'good' 'bad' 'bad' 'good' 'bad']\n"
     ]
    }
   ],
   "source": [
    "# Print the first 20 elements of the predictions 1D array:\n",
    "print(predictions_mlpc[:20])"
   ]
  },
  {
   "cell_type": "code",
   "execution_count": 25,
   "id": "4d7ddc47",
   "metadata": {},
   "outputs": [
    {
     "name": "stdout",
     "output_type": "stream",
     "text": [
      "              precision    recall  f1-score   support\n",
      "\n",
      "         bad       0.94      0.92      0.93       273\n",
      "        good       0.59      0.64      0.61        47\n",
      "\n",
      "    accuracy                           0.88       320\n",
      "   macro avg       0.76      0.78      0.77       320\n",
      "weighted avg       0.89      0.88      0.88       320\n",
      "\n"
     ]
    }
   ],
   "source": [
    "# Test the accuracy of the neural network.\n",
    "# Use 'classification_report()' function:\n",
    "print(classification_report(output_test, predictions_mlpc))"
   ]
  },
  {
   "cell_type": "code",
   "execution_count": 26,
   "id": "b62210e7",
   "metadata": {},
   "outputs": [
    {
     "name": "stdout",
     "output_type": "stream",
     "text": [
      "[[252  21]\n",
      " [ 17  30]]\n"
     ]
    }
   ],
   "source": [
    "# Test the accuracy of the neural network.\n",
    "# Use 'confusion_matrix()' function:\n",
    "print(confusion_matrix(output_test, predictions_mlpc))"
   ]
  },
  {
   "cell_type": "code",
   "execution_count": 27,
   "id": "d092b26e",
   "metadata": {},
   "outputs": [
    {
     "name": "stdout",
     "output_type": "stream",
     "text": [
      "The score is:  0.88125\n"
     ]
    }
   ],
   "source": [
    "# Calculate the accuracy score:\n",
    "from sklearn.metrics import accuracy_score\n",
    "\n",
    "score = accuracy_score(output_test, predictions_mlpc)\n",
    "print(\"The score is: \", score)"
   ]
  },
  {
   "cell_type": "code",
   "execution_count": 37,
   "id": "97ea5102",
   "metadata": {},
   "outputs": [
    {
     "name": "stdout",
     "output_type": "stream",
     "text": [
      "The wine quality is:  ['bad']\n"
     ]
    },
    {
     "name": "stderr",
     "output_type": "stream",
     "text": [
      "C:\\Users\\Miketobbz\\anaconda3\\lib\\site-packages\\sklearn\\base.py:450: UserWarning: X does not have valid feature names, but StandardScaler was fitted with feature names\n",
      "  warnings.warn(\n"
     ]
    }
   ],
   "source": [
    "# Predict the quality of wine with these attributes:\n",
    "new_input_test = [[10.5, 0.95, 0.55, 1.8, 0.072, 11.0, 15.0, 0.9963, 3.23, 0.65, 9.2]]\n",
    "new_input_test = sc.transform(new_input_test)\n",
    "predictions_mlpc = mlpc.predict(new_input_test)\n",
    "print(\"The wine quality is: \", predictions_mlpc)\n"
   ]
  }
 ],
 "metadata": {
  "kernelspec": {
   "display_name": "Python 3 (ipykernel)",
   "language": "python",
   "name": "python3"
  },
  "language_info": {
   "codemirror_mode": {
    "name": "ipython",
    "version": 3
   },
   "file_extension": ".py",
   "mimetype": "text/x-python",
   "name": "python",
   "nbconvert_exporter": "python",
   "pygments_lexer": "ipython3",
   "version": "3.9.12"
  }
 },
 "nbformat": 4,
 "nbformat_minor": 5
}
